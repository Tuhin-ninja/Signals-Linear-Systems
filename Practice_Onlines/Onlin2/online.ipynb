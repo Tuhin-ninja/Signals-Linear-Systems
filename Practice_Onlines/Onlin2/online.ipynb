{
 "cells": [
  {
   "cell_type": "code",
   "execution_count": null,
   "metadata": {},
   "outputs": [],
   "source": [
    "import Discrete\n",
    "\n",
    "stocks = int(input(\"Enter the number of stocks: \"))\n",
    "stock_prices = Discrete.DiscreteSignal(stocks)\n",
    "for i in range(stocks) : \n",
    "    stock = float(input(\"Enter the stock price: \"))\n",
    "    stock_prices.set_value_at_time(i, stock)\n",
    "\n",
    "window = int(input(\"Enter the window size: \"))\n",
    "unweighted_weights = Discrete.DiscreteSignal(stocks)\n",
    "weighted_weights = Discrete.DiscreteSignal(stocks)\n",
    "sum = window*(window+1)/2\n",
    "for i in range(window) : \n",
    "    # weight = float(input(\"Enter the weight: \"))\n",
    "    unweighted_weight = 1/window\n",
    "    weighted_weight = (i+1)/sum\n",
    "    print(weighted_weight)\n",
    "    unweighted_weights.set_value_at_time(i, unweighted_weight)\n",
    "    weighted_weights.set_value_at_time(i, weighted_weight)\n",
    "\n",
    "lti_system1 = Discrete.LTI_Discrete(unweighted_weights)\n",
    "lti_system2 = Discrete.LTI_Discrete(weighted_weights)\n",
    "\n",
    "output1, constituent_impulses1, coefficients1 = lti_system1.output(stock_prices)\n",
    "output2, constituent_impulses2, coefficients2 = lti_system2.output(stock_prices)\n",
    "\n",
    "print(f\"Unweighted Average : {output1.values[stocks+window-1:2*stocks]}\")\n",
    "print(f\"Weighted Average : {output2.values[stocks+window:2*stocks+1]}\")\n",
    "lti_system2.response_of_input_plot(stock_prices)\n",
    "print(output2.values)\n",
    "# print(output.values)"
   ]
  }
 ],
 "metadata": {
  "language_info": {
   "name": "python"
  }
 },
 "nbformat": 4,
 "nbformat_minor": 2
}
